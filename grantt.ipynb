{
  "nbformat": 4,
  "nbformat_minor": 0,
  "metadata": {
    "colab": {
      "provenance": [],
      "authorship_tag": "ABX9TyOeFWPHWQOj0ApUqYnj27Qn",
      "include_colab_link": true
    },
    "kernelspec": {
      "name": "python3",
      "display_name": "Python 3"
    },
    "language_info": {
      "name": "python"
    }
  },
  "cells": [
    {
      "cell_type": "markdown",
      "metadata": {
        "id": "view-in-github",
        "colab_type": "text"
      },
      "source": [
        "<a href=\"https://colab.research.google.com/github/vitor-marinho-fjp/gantt_chart/blob/main/grantt.ipynb\" target=\"_parent\"><img src=\"https://colab.research.google.com/assets/colab-badge.svg\" alt=\"Open In Colab\"/></a>"
      ]
    },
    {
      "cell_type": "code",
      "execution_count": null,
      "metadata": {
        "id": "WZPxaqbbulA2"
      },
      "outputs": [],
      "source": [
        "import pandas as pd\n",
        "import numpy as np\n",
        "import matplotlib.pyplot as plt\n",
        "from matplotlib.colors import ListedColormap\n",
        "import seaborn as sns\n",
        "\n",
        "# Ler os dados do Excel\n",
        "CIS_Ferias_2024 = pd.read_excel(\"CIS_Ferias_2024.xlsx\", skiprows=1)\n",
        "CIS_Ferias_2024.columns = CIS_Ferias_2024.columns.str.lower()\n",
        "\n",
        "# Adiciona uma coluna para o término das férias\n",
        "CIS_Ferias_2024['fim'] = CIS_Ferias_2024['retorno'] + pd.DateOffset(days=1)\n",
        "\n",
        "# Escolha de cores\n",
        "cores = sns.color_palette(\"Set2\", n_colors=len(CIS_Ferias_2024['servidor'].unique()))\n",
        "\n",
        "# Ordena os servidores em ordem alfabética invertida\n",
        "CIS_Ferias_2024['servidor'] = CIS_Ferias_2024['servidor'].astype('category').cat.reorder_categories(\n",
        "    reversed(CIS_Ferias_2024['servidor'].unique()), ordered=True\n",
        ")\n",
        "\n",
        "# Inicializa o gráfico\n",
        "plt.figure(figsize=(20, 12))\n",
        "pl = sns.lineplot(\n",
        "    data=CIS_Ferias_2024,\n",
        "    x='inicio',\n",
        "    y='servidor',\n",
        "    hue='tipo',\n",
        "    palette=cores,\n",
        "    linewidth=10,\n",
        "    markers=True,\n",
        "    dashes=False,\n",
        ")\n",
        "\n",
        "# Adiciona textos aos segmentos de linha\n",
        "for i, row in CIS_Ferias_2024.iterrows():\n",
        "    plt.text(row['inicio'], row['servidor'], f\"{row['inicio'].strftime('%d %b')}\", ha='right', va='center', size=12)\n",
        "    plt.text(row['fim'], row['servidor'], f\"{row['fim'].strftime('%d %b')}\", ha='left', va='center', size=12)\n",
        "\n",
        "# Adiciona uma linha vertical para a data atual\n",
        "plt.axvline(pd.to_datetime('today'), color='red', linestyle='--', linewidth=2, alpha=0.5)\n",
        "\n",
        "# Configurações estéticas e de legenda\n",
        "plt.title(\"Férias dos Servidores\", fontsize=20)\n",
        "plt.suptitle(\"CIS - 2024\", fontsize=16)\n",
        "plt.xlabel(\"Data\", fontsize=14)\n",
        "plt.ylabel(\"Servidores\", fontsize=14)\n",
        "plt.xticks(rotation=90, ha='right')\n",
        "plt.legend(title=\"Tipo\")\n",
        "\n",
        "# Salva o gráfico como um arquivo PDF\n",
        "plt.savefig(\"ferias_cis.pdf\")\n",
        "\n",
        "# Mostra o gráfico\n",
        "plt.show()\n"
      ]
    }
  ]
}